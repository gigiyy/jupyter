{
 "cells": [
  {
   "cell_type": "code",
   "execution_count": 2,
   "id": "ab9b31fd",
   "metadata": {},
   "outputs": [
    {
     "data": {
      "text/plain": [
       "'heads'"
      ]
     },
     "execution_count": 2,
     "metadata": {},
     "output_type": "execute_result"
    }
   ],
   "source": [
    "import comp_prob_inference\n",
    "comp_prob_inference.flip_fair_coin()"
   ]
  },
  {
   "cell_type": "code",
   "execution_count": 3,
   "id": "65ed0746",
   "metadata": {},
   "outputs": [],
   "source": [
    "flips = comp_prob_inference.flip_fair_coins(100)"
   ]
  },
  {
   "cell_type": "code",
   "execution_count": 4,
   "id": "be4ee3fe",
   "metadata": {},
   "outputs": [
    {
     "data": {
      "image/png": "[encoded data removed]",
      "text/plain": [
       "<Figure size 360x288 with 1 Axes>"
      ]
     },
     "metadata": {
      "needs_background": "light"
     },
     "output_type": "display_data"
    }
   ],
   "source": [
    "comp_prob_inference.plot_discrete_histogram(flips)"
   ]
  },
  {
   "cell_type": "code",
   "execution_count": 5,
   "id": "4d44d9de",
   "metadata": {},
   "outputs": [
    {
     "data": {
      "image/png": "[encoded data removed]",
      "text/plain": [
       "<Figure size 360x288 with 1 Axes>"
      ]
     },
     "metadata": {
      "needs_background": "light"
     },
     "output_type": "display_data"
    }
   ],
   "source": [
    "comp_prob_inference.plot_discrete_histogram(flips, frequency=True)"
   ]
  },
  {
   "cell_type": "code",
   "execution_count": 6,
   "id": "5f5b5133",
   "metadata": {},
   "outputs": [],
   "source": [
    "n = 100000\n",
    "heads_so_far = 0\n",
    "fraction_of_heads = []\n",
    "for i in range(n):\n",
    "    if comp_prob_inference.flip_fair_coin() == 'heads':\n",
    "        heads_so_far += 1\n",
    "    fraction_of_heads.append(heads_so_far / (i+1))"
   ]
  },
  {
   "cell_type": "code",
   "execution_count": 7,
   "id": "0d1ad8ec",
   "metadata": {},
   "outputs": [
    {
     "data": {
      "text/plain": [
       "Text(0, 0.5, 'Fraction of heads')"
      ]
     },
     "execution_count": 7,
     "metadata": {},
     "output_type": "execute_result"
    },
    {
     "data": {
      "image/png": "[encoded data removed]",
      "text/plain": [
       "<Figure size 576x288 with 1 Axes>"
      ]
     },
     "metadata": {
      "needs_background": "light"
     },
     "output_type": "display_data"
    }
   ],
   "source": [
    "import matplotlib.pyplot as plt\n",
    "plt.figure(figsize=(8, 4))\n",
    "plt.plot(range(1, n+1), fraction_of_heads)\n",
    "plt.xlabel('Number of flips')\n",
    "plt.ylabel('Fraction of heads')"
   ]
  },
  {
   "cell_type": "markdown",
   "id": "0bd1fbcc",
   "metadata": {},
   "source": [
    " - event and experiment\n",
    " \n",
    " there is underlying experiment, you can define probability of event happening of q. \n",
    " \n",
    " for experient might not be repeatible, when not repeatible, you need to crate model to pridict the event"
   ]
  },
  {
   "cell_type": "markdown",
   "id": "e78987f5",
   "metadata": {},
   "source": [
    "A few important remarks:\n",
    "\n",
    "The sample space is always specified to be collectively exhaustive, meaning that every possible outcome is in it, and mutually exclusive, meaning that once the experiment is run (e.g., flipping the fair coin), exactly one possible outcome in the sample space happens. It's impossible for multiple outcomes in the sample space to simultaneously happen! It's also impossible for none of the outcomes to happen!\n",
    "\n",
    "Probabilities can be thought of as fractions of times outcomes occur; thus, probabilities are nonnegative and at least 0 and at most 1.\n",
    "\n",
    "If we add up the probabilities of all the possible outcomes in the sample space, we get 1.\n",
    "(For the fair coin flip, P(heads)+P(tails)= 1/2 + 1/2 = 1.)\n",
    "\n",
    "Some intuition for this: Consider the coin flipping experiment. What does the fraction of times heads occur and the fraction of times tails occur add up to? Since these are the only two possible outcomes (and again, recall that these outcomes are exclusive in that they can't simultaneously occur, and exhaustive since they are the only possible outcomes), these two fractions will always sum to 1. For a massive number of repeats of the experiment, these two fractions correspond to P(heads) and P(tails); the fractions sum to 1 and so these probabilities also sum to 1."
   ]
  },
  {
   "cell_type": "code",
   "execution_count": 8,
   "id": "10310a01",
   "metadata": {},
   "outputs": [
    {
     "data": {
      "text/plain": [
       "0.16666666666666666"
      ]
     },
     "execution_count": 8,
     "metadata": {},
     "output_type": "execute_result"
    }
   ],
   "source": [
    "1./6"
   ]
  },
  {
   "cell_type": "code",
   "execution_count": 9,
   "id": "0ddc3657",
   "metadata": {},
   "outputs": [
    {
     "data": {
      "text/plain": [
       "0.16666666666666666"
      ]
     },
     "execution_count": 9,
     "metadata": {},
     "output_type": "execute_result"
    }
   ],
   "source": [
    "1/6"
   ]
  },
  {
   "cell_type": "code",
   "execution_count": 10,
   "id": "9cfe2d89",
   "metadata": {},
   "outputs": [
    {
     "data": {
      "text/plain": [
       "4"
      ]
     },
     "execution_count": 10,
     "metadata": {},
     "output_type": "execute_result"
    }
   ],
   "source": [
    "--4"
   ]
  },
  {
   "cell_type": "code",
   "execution_count": 11,
   "id": "81d501ec",
   "metadata": {},
   "outputs": [
    {
     "name": "stdout",
     "output_type": "stream",
     "text": [
      "rainy 0\n"
     ]
    }
   ],
   "source": [
    "prob_space = {'sunny': 1/2, 'rainy': 1/6, 'snowy': 1/3}\n",
    "random_outcome = comp_prob_inference.sample_from_finite_probability_space(prob_space)\n",
    "W = random_outcome\n",
    "if random_outcome == 'sunny':\n",
    "    I = 1\n",
    "else:\n",
    "    I = 0\n",
    "    \n",
    "print(W, I)"
   ]
  },
  {
   "cell_type": "markdown",
   "id": "0c95f2bd",
   "metadata": {},
   "source": [
    "probability space is (Omega, P) where in Python noted with set: {'sunny': 1/2, 'rainy': 1/6, 'snowy': 1/3}\n",
    "\n",
    "probability table is derived from probablity space that potentially relabelled the outcome\n",
    "\n",
    "these 3 things are equal: probability table, probability mass funtion (PMF), probability distribution\n",
    "\n",
    "pW = P(W = w), pI = P(I = i) where w in {'sunny', 'rainy', 'snowy'}, i in {1, 0}"
   ]
  },
  {
   "cell_type": "code",
   "execution_count": 12,
   "id": "ed0397fe",
   "metadata": {},
   "outputs": [
    {
     "name": "stdout",
     "output_type": "stream",
     "text": [
      "{2: {(1, 1)}, 3: {(1, 2), (2, 1)}, 4: {(3, 1), (1, 3), (2, 2)}, 5: {(2, 3), (3, 2), (4, 1), (1, 4)}, 6: {(2, 4), (1, 5), (5, 1), (4, 2), (3, 3)}, 7: {(3, 4), (4, 3), (6, 1), (1, 6), (2, 5), (5, 2)}, 8: {(4, 4), (6, 2), (2, 6), (5, 3), (3, 5)}, 9: {(6, 3), (4, 5), (5, 4), (3, 6)}, 10: {(4, 6), (6, 4), (5, 5)}, 11: {(5, 6), (6, 5)}, 12: {(6, 6)}}\n"
     ]
    }
   ],
   "source": [
    "pX = {}\n",
    "for i in range(2, 13):\n",
    "    pX[i] = set()\n",
    "        \n",
    "for i in range(1, 7):\n",
    "    for j in range(1, 7):\n",
    "        pX[i + j].add((i, j))\n",
    "        \n",
    "print(pX)"
   ]
  },
  {
   "cell_type": "code",
   "execution_count": 13,
   "id": "f32bc351",
   "metadata": {},
   "outputs": [
    {
     "name": "stdout",
     "output_type": "stream",
     "text": [
      "{2: 0.027777777777777776, 3: 0.05555555555555555, 4: 0.08333333333333333, 5: 0.1111111111111111, 6: 0.1388888888888889, 7: 0.16666666666666666, 8: 0.1388888888888889, 9: 0.1111111111111111, 10: 0.08333333333333333, 11: 0.05555555555555555, 12: 0.027777777777777776}\n"
     ]
    }
   ],
   "source": [
    "pW = {}\n",
    "for x in list(pX):\n",
    "    pW[x] = len(pX[x]) / 36\n",
    "    \n",
    "print(pW)"
   ]
  },
  {
   "cell_type": "code",
   "execution_count": 14,
   "id": "3f58dd74",
   "metadata": {},
   "outputs": [
    {
     "name": "stdout",
     "output_type": "stream",
     "text": [
      "{2: 0.027777777777777776, 3: 0.05555555555555555, 4: 0.08333333333333333, 5: 0.1111111111111111, 6: 0.1388888888888889, 7: 0.16666666666666669, 8: 0.1388888888888889, 9: 0.1111111111111111, 10: 0.08333333333333333, 11: 0.05555555555555555, 12: 0.027777777777777776}\n"
     ]
    }
   ],
   "source": [
    "pmf = {}  # start with empty pmf\n",
    "for x in range(1, 7):\n",
    "    for y in range(1, 7):\n",
    "        if (x+y) in pmf:\n",
    "            pmf[x+y] += 1/36\n",
    "        else:\n",
    "            pmf[x+y] = 1/36\n",
    "            \n",
    "print(pmf)"
   ]
  },
  {
   "cell_type": "markdown",
   "id": "a26ec8e3",
   "metadata": {},
   "source": [
    "joint probability table/distribution\n",
    "\n",
    "pW,T => with two random variable and you can get probablity table for either W, T by summing either the row or the column of the joint table, which is called marginalizing"
   ]
  },
  {
   "cell_type": "markdown",
   "id": "51542f36",
   "metadata": {},
   "source": [
    "for probability space pW,V = {('sunny', 'hot'): 3/10, ('sunny', 'cold'): 1/5, ('rainy', 'hot'): 1/30, ('rainy', 'cold'): 2/15, ('snowy', 'hot'): 0, ('snowy', cold'): 1/3)\n",
    "\n",
    "so if w = 'rainy', what would the probability table for T?\n",
    "\n",
    "we can caculate with below conditioning calucations:\n",
    "\n",
    "pT|W(hot|rainy)= 1 /30 | 1/6 = pW, T(rainy, hot) | pW (rainy) = 1 / 5\n",
    "\n"
   ]
  },
  {
   "cell_type": "code",
   "execution_count": 15,
   "id": "dae189b4",
   "metadata": {},
   "outputs": [],
   "source": [
    "from simpsons_paradox_data import *"
   ]
  },
  {
   "cell_type": "code",
   "execution_count": 16,
   "id": "c0558d27",
   "metadata": {},
   "outputs": [],
   "source": [
    "joint_prob_gender_admission = joint_prob_table.sum(axis=1)"
   ]
  },
  {
   "cell_type": "code",
   "execution_count": 17,
   "id": "aba25bfd",
   "metadata": {},
   "outputs": [
    {
     "data": {
      "text/plain": [
       "0.12298276623950503"
      ]
     },
     "execution_count": 17,
     "metadata": {},
     "output_type": "execute_result"
    }
   ],
   "source": [
    "joint_prob_gender_admission[gender_mapping['female'], admission_mapping['admitted']]"
   ]
  },
  {
   "cell_type": "code",
   "execution_count": 18,
   "id": "f6c88bcb",
   "metadata": {},
   "outputs": [],
   "source": [
    "female_only = joint_prob_gender_admission[gender_mapping['female']]"
   ]
  },
  {
   "cell_type": "code",
   "execution_count": 19,
   "id": "16d37c7b",
   "metadata": {},
   "outputs": [],
   "source": [
    "prob_admission_given_female = female_only / np.sum(female_only)"
   ]
  },
  {
   "cell_type": "code",
   "execution_count": 20,
   "id": "8cef1985",
   "metadata": {},
   "outputs": [
    {
     "name": "stdout",
     "output_type": "stream",
     "text": [
      "{'admitted': 0.3033351498637601, 'rejected': 0.6966648501362399}\n"
     ]
    }
   ],
   "source": [
    "prob_admission_given_female_dict = dict(zip(admission_labels, prob_admission_given_female))\n",
    "print(prob_admission_given_female_dict)"
   ]
  },
  {
   "cell_type": "code",
   "execution_count": 21,
   "id": "17afe598",
   "metadata": {},
   "outputs": [],
   "source": [
    "male_only = joint_prob_gender_admission[gender_mapping['male']]"
   ]
  },
  {
   "cell_type": "code",
   "execution_count": 22,
   "id": "b28291e3",
   "metadata": {},
   "outputs": [],
   "source": [
    "prob_admission_given_male = male_only / np.sum(male_only)"
   ]
  },
  {
   "cell_type": "code",
   "execution_count": 23,
   "id": "63ab744b",
   "metadata": {},
   "outputs": [
    {
     "name": "stdout",
     "output_type": "stream",
     "text": [
      "{'admitted': 0.44519509476031227, 'rejected': 0.5548049052396877}\n"
     ]
    }
   ],
   "source": [
    "prob_admission_given_male_dict = dict(zip(admission_labels, prob_admission_given_male))\n",
    "print(prob_admission_given_male_dict)"
   ]
  },
  {
   "cell_type": "code",
   "execution_count": 24,
   "id": "6e052c7f",
   "metadata": {},
   "outputs": [],
   "source": [
    "admitted_only = joint_prob_gender_admission[:, admission_mapping['admitted']]"
   ]
  },
  {
   "cell_type": "code",
   "execution_count": 25,
   "id": "658606c8",
   "metadata": {},
   "outputs": [
    {
     "name": "stdout",
     "output_type": "stream",
     "text": [
      "{'female': 0.3172274654630008, 'male': 0.6827725345369992}\n"
     ]
    }
   ],
   "source": [
    "prob_gender_given_admitted = admitted_only / np.sum(admitted_only)\n",
    "prob_gender_given_admitted_dict = dict(zip(gender_labels, prob_gender_given_admitted))\n",
    "print(prob_gender_given_admitted_dict)"
   ]
  },
  {
   "cell_type": "code",
   "execution_count": 26,
   "id": "49bab1ab",
   "metadata": {},
   "outputs": [
    {
     "name": "stdout",
     "output_type": "stream",
     "text": [
      "{'admitted': 0.8200000000000004, 'rejected': 0.1799999999999997}\n"
     ]
    }
   ],
   "source": [
    "female_and_A_only = joint_prob_table[gender_mapping['female'], department_mapping['A']]\n",
    "prob_female_and_A_given_admitted = female_and_A_only / np.sum(female_and_A_only)\n",
    "prob_female_and_A_given_admitted_dict = dict(zip(admission_labels, prob_female_and_A_given_admitted))\n",
    "print (prob_female_and_A_given_admitted_dict)"
   ]
  },
  {
   "cell_type": "code",
   "execution_count": 27,
   "id": "4b99ac4f",
   "metadata": {},
   "outputs": [
    {
     "name": "stdout",
     "output_type": "stream",
     "text": [
      "{'admitted': 0.6200000000000001, 'rejected': 0.37999999999999984}\n"
     ]
    }
   ],
   "source": [
    "male_and_A_only = joint_prob_table[gender_mapping['male'], department_mapping['A']]\n",
    "prob_male_and_A_given_admitted = male_and_A_only / np.sum(male_and_A_only)\n",
    "prob_male_and_A_given_admitted_dict = dict(zip(admission_labels, prob_male_and_A_given_admitted))\n",
    "print (prob_male_and_A_given_admitted_dict)"
   ]
  },
  {
   "cell_type": "code",
   "execution_count": 28,
   "id": "04d6a340",
   "metadata": {},
   "outputs": [
    {
     "name": "stdout",
     "output_type": "stream",
     "text": [
      "{'admitted': 0.679999999999997, 'rejected': 0.3200000000000029}\n"
     ]
    }
   ],
   "source": [
    "female_and_A_only = joint_prob_table[gender_mapping['female'], department_mapping['B']]\n",
    "prob_female_and_A_given_admitted = female_and_A_only / np.sum(female_and_A_only)\n",
    "prob_female_and_A_given_admitted_dict = dict(zip(admission_labels, prob_female_and_A_given_admitted))\n",
    "print (prob_female_and_A_given_admitted_dict)"
   ]
  },
  {
   "cell_type": "code",
   "execution_count": 29,
   "id": "9cee0daa",
   "metadata": {},
   "outputs": [
    {
     "name": "stdout",
     "output_type": "stream",
     "text": [
      "{'admitted': 0.6300000000000003, 'rejected': 0.3699999999999997}\n"
     ]
    }
   ],
   "source": [
    "female_and_A_only = joint_prob_table[gender_mapping['male'], department_mapping['B']]\n",
    "prob_female_and_A_given_admitted = female_and_A_only / np.sum(female_and_A_only)\n",
    "prob_female_and_A_given_admitted_dict = dict(zip(admission_labels, prob_female_and_A_given_admitted))\n",
    "print (prob_female_and_A_given_admitted_dict)"
   ]
  },
  {
   "cell_type": "code",
   "execution_count": 30,
   "id": "15053f64",
   "metadata": {},
   "outputs": [
    {
     "name": "stdout",
     "output_type": "stream",
     "text": [
      "{'admitted': 0.3400000000000001, 'rejected': 0.6599999999999998}\n"
     ]
    }
   ],
   "source": [
    "female_and_A_only = joint_prob_table[gender_mapping['female'], department_mapping['C']]\n",
    "prob_female_and_A_given_admitted = female_and_A_only / np.sum(female_and_A_only)\n",
    "prob_female_and_A_given_admitted_dict = dict(zip(admission_labels, prob_female_and_A_given_admitted))\n",
    "print (prob_female_and_A_given_admitted_dict)"
   ]
  },
  {
   "cell_type": "code",
   "execution_count": 31,
   "id": "382afeca",
   "metadata": {},
   "outputs": [
    {
     "name": "stdout",
     "output_type": "stream",
     "text": [
      "{'admitted': 0.37000000000000005, 'rejected': 0.63}\n"
     ]
    }
   ],
   "source": [
    "female_and_A_only = joint_prob_table[gender_mapping['male'], department_mapping['C']]\n",
    "prob_female_and_A_given_admitted = female_and_A_only / np.sum(female_and_A_only)\n",
    "prob_female_and_A_given_admitted_dict = dict(zip(admission_labels, prob_female_and_A_given_admitted))\n",
    "print (prob_female_and_A_given_admitted_dict)"
   ]
  },
  {
   "cell_type": "code",
   "execution_count": 32,
   "id": "2d4cf955",
   "metadata": {},
   "outputs": [
    {
     "name": "stdout",
     "output_type": "stream",
     "text": [
      "{'admitted': 0.35, 'rejected': 0.6499999999999999}\n"
     ]
    }
   ],
   "source": [
    "female_and_A_only = joint_prob_table[gender_mapping['female'], department_mapping['D']]\n",
    "prob_female_and_A_given_admitted = female_and_A_only / np.sum(female_and_A_only)\n",
    "prob_female_and_A_given_admitted_dict = dict(zip(admission_labels, prob_female_and_A_given_admitted))\n",
    "print (prob_female_and_A_given_admitted_dict)"
   ]
  },
  {
   "cell_type": "code",
   "execution_count": 33,
   "id": "b48a9551",
   "metadata": {},
   "outputs": [
    {
     "name": "stdout",
     "output_type": "stream",
     "text": [
      "{'admitted': 0.3300000000000004, 'rejected': 0.6699999999999996}\n"
     ]
    }
   ],
   "source": [
    "female_and_A_only = joint_prob_table[gender_mapping['male'], department_mapping['D']]\n",
    "prob_female_and_A_given_admitted = female_and_A_only / np.sum(female_and_A_only)\n",
    "prob_female_and_A_given_admitted_dict = dict(zip(admission_labels, prob_female_and_A_given_admitted))\n",
    "print (prob_female_and_A_given_admitted_dict)"
   ]
  },
  {
   "cell_type": "code",
   "execution_count": 34,
   "id": "701e3e22",
   "metadata": {},
   "outputs": [
    {
     "name": "stdout",
     "output_type": "stream",
     "text": [
      "{'admitted': 0.23999999999999955, 'rejected': 0.7600000000000005}\n"
     ]
    }
   ],
   "source": [
    "female_and_A_only = joint_prob_table[gender_mapping['female'], department_mapping['E']]\n",
    "prob_female_and_A_given_admitted = female_and_A_only / np.sum(female_and_A_only)\n",
    "prob_female_and_A_given_admitted_dict = dict(zip(admission_labels, prob_female_and_A_given_admitted))\n",
    "print (prob_female_and_A_given_admitted_dict)"
   ]
  },
  {
   "cell_type": "code",
   "execution_count": 35,
   "id": "95333bab",
   "metadata": {},
   "outputs": [
    {
     "name": "stdout",
     "output_type": "stream",
     "text": [
      "{'admitted': 0.27999999999999936, 'rejected': 0.7200000000000006}\n"
     ]
    }
   ],
   "source": [
    "female_and_A_only = joint_prob_table[gender_mapping['male'], department_mapping['E']]\n",
    "prob_female_and_A_given_admitted = female_and_A_only / np.sum(female_and_A_only)\n",
    "prob_female_and_A_given_admitted_dict = dict(zip(admission_labels, prob_female_and_A_given_admitted))\n",
    "print (prob_female_and_A_given_admitted_dict)"
   ]
  },
  {
   "cell_type": "code",
   "execution_count": 36,
   "id": "07862786",
   "metadata": {},
   "outputs": [
    {
     "name": "stdout",
     "output_type": "stream",
     "text": [
      "{'admitted': 0.0699999999999997, 'rejected': 0.9300000000000003}\n"
     ]
    }
   ],
   "source": [
    "female_and_A_only = joint_prob_table[gender_mapping['female'], department_mapping['F']]\n",
    "prob_female_and_A_given_admitted = female_and_A_only / np.sum(female_and_A_only)\n",
    "prob_female_and_A_given_admitted_dict = dict(zip(admission_labels, prob_female_and_A_given_admitted))\n",
    "print (prob_female_and_A_given_admitted_dict)"
   ]
  },
  {
   "cell_type": "code",
   "execution_count": 37,
   "id": "3acfcb02",
   "metadata": {},
   "outputs": [
    {
     "name": "stdout",
     "output_type": "stream",
     "text": [
      "{'admitted': 0.05999999999999988, 'rejected': 0.9400000000000001}\n"
     ]
    }
   ],
   "source": [
    "female_and_A_only = joint_prob_table[gender_mapping['male'], department_mapping['F']]\n",
    "prob_female_and_A_given_admitted = female_and_A_only / np.sum(female_and_A_only)\n",
    "prob_female_and_A_given_admitted_dict = dict(zip(admission_labels, prob_female_and_A_given_admitted))\n",
    "print (prob_female_and_A_given_admitted_dict)"
   ]
  },
  {
   "cell_type": "code",
   "execution_count": null,
   "id": "45a496ba",
   "metadata": {},
   "outputs": [],
   "source": []
  },
  {
   "cell_type": "code",
   "execution_count": 38,
   "id": "c2f4c6a9",
   "metadata": {},
   "outputs": [],
   "source": [
    "def get_prob_given_gender_depart(gender, depart):\n",
    "    gd = joint_prob_table[gender_mapping[gender], department_mapping[depart]]\n",
    "    gda = gd / np.sum(gd)\n",
    "    gd_dict = dict(zip(admission_labels, gda))\n",
    "    print (gd_dict)"
   ]
  },
  {
   "cell_type": "code",
   "execution_count": 39,
   "id": "b4be6604",
   "metadata": {},
   "outputs": [
    {
     "name": "stdout",
     "output_type": "stream",
     "text": [
      "A female\n",
      "{'admitted': 0.8200000000000004, 'rejected': 0.1799999999999997}\n",
      "A male\n",
      "{'admitted': 0.6200000000000001, 'rejected': 0.37999999999999984}\n",
      "B female\n",
      "{'admitted': 0.679999999999997, 'rejected': 0.3200000000000029}\n",
      "B male\n",
      "{'admitted': 0.6300000000000003, 'rejected': 0.3699999999999997}\n",
      "C female\n",
      "{'admitted': 0.3400000000000001, 'rejected': 0.6599999999999998}\n",
      "C male\n",
      "{'admitted': 0.37000000000000005, 'rejected': 0.63}\n",
      "D female\n",
      "{'admitted': 0.35, 'rejected': 0.6499999999999999}\n",
      "D male\n",
      "{'admitted': 0.3300000000000004, 'rejected': 0.6699999999999996}\n",
      "E female\n",
      "{'admitted': 0.23999999999999955, 'rejected': 0.7600000000000005}\n",
      "E male\n",
      "{'admitted': 0.27999999999999936, 'rejected': 0.7200000000000006}\n",
      "F female\n",
      "{'admitted': 0.0699999999999997, 'rejected': 0.9300000000000003}\n",
      "F male\n",
      "{'admitted': 0.05999999999999988, 'rejected': 0.9400000000000001}\n"
     ]
    }
   ],
   "source": [
    "for depart in department_labels:\n",
    "    for gender in gender_labels:\n",
    "        print(depart, gender)\n",
    "        get_prob_given_gender_depart(gender, depart)"
   ]
  },
  {
   "cell_type": "code",
   "execution_count": 40,
   "id": "bc9e68e0",
   "metadata": {},
   "outputs": [
    {
     "name": "stdout",
     "output_type": "stream",
     "text": [
      "A female 0.8200000000000004\n",
      "A male 0.6200000000000001\n",
      "B female 0.679999999999997\n",
      "B male 0.6300000000000003\n",
      "C female 0.3400000000000001\n",
      "C male 0.37000000000000005\n",
      "D female 0.35\n",
      "D male 0.3300000000000004\n",
      "E female 0.23999999999999955\n",
      "E male 0.27999999999999936\n",
      "F female 0.0699999999999997\n",
      "F male 0.05999999999999988\n"
     ]
    }
   ],
   "source": [
    "for department in department_labels:\n",
    "    for gender in gender_labels:\n",
    "        restricted = joint_prob_table[gender_mapping[gender], department_mapping[department]]\n",
    "        print(department, gender, dict(zip(admission_labels, restricted / np.sum(restricted)))['admitted'])"
   ]
  },
  {
   "cell_type": "code",
   "execution_count": null,
   "id": "899cb26b",
   "metadata": {},
   "outputs": [],
   "source": []
  }
 ],
 "metadata": {
  "kernelspec": {
   "display_name": "Python 3 (ipykernel)",
   "language": "python",
   "name": "python3"
  },
  "language_info": {
   "codemirror_mode": {
    "name": "ipython",
    "version": 3
   },
   "file_extension": ".py",
   "mimetype": "text/x-python",
   "name": "python",
   "nbconvert_exporter": "python",
   "pygments_lexer": "ipython3",
   "version": "3.9.7"
  }
 },
 "nbformat": 4,
 "nbformat_minor": 5
}
